{
 "cells": [
  {
   "cell_type": "code",
   "execution_count": 109,
   "metadata": {},
   "outputs": [
    {
     "data": {
      "text/html": [
       "<div><style>\n",
       ".dataframe > thead > tr,\n",
       ".dataframe > tbody > tr {\n",
       "  text-align: right;\n",
       "  white-space: pre-wrap;\n",
       "}\n",
       "</style>\n",
       "<small>shape: (768, 9)</small><table border=\"1\" class=\"dataframe\"><thead><tr><th>Pregnancies</th><th>Glucose</th><th>BloodPressure</th><th>SkinThickness</th><th>Insulin</th><th>BMI</th><th>DiabetesPedigreeFunction</th><th>Age</th><th>Outcome</th></tr><tr><td>i64</td><td>i64</td><td>i64</td><td>i64</td><td>i64</td><td>f64</td><td>f64</td><td>i64</td><td>i64</td></tr></thead><tbody><tr><td>6</td><td>148</td><td>72</td><td>35</td><td>0</td><td>33.6</td><td>0.627</td><td>50</td><td>1</td></tr><tr><td>1</td><td>85</td><td>66</td><td>29</td><td>0</td><td>26.6</td><td>0.351</td><td>31</td><td>0</td></tr><tr><td>8</td><td>183</td><td>64</td><td>0</td><td>0</td><td>23.3</td><td>0.672</td><td>32</td><td>1</td></tr><tr><td>1</td><td>89</td><td>66</td><td>23</td><td>94</td><td>28.1</td><td>0.167</td><td>21</td><td>0</td></tr><tr><td>0</td><td>137</td><td>40</td><td>35</td><td>168</td><td>43.1</td><td>2.288</td><td>33</td><td>1</td></tr><tr><td>&hellip;</td><td>&hellip;</td><td>&hellip;</td><td>&hellip;</td><td>&hellip;</td><td>&hellip;</td><td>&hellip;</td><td>&hellip;</td><td>&hellip;</td></tr><tr><td>10</td><td>101</td><td>76</td><td>48</td><td>180</td><td>32.9</td><td>0.171</td><td>63</td><td>0</td></tr><tr><td>2</td><td>122</td><td>70</td><td>27</td><td>0</td><td>36.8</td><td>0.34</td><td>27</td><td>0</td></tr><tr><td>5</td><td>121</td><td>72</td><td>23</td><td>112</td><td>26.2</td><td>0.245</td><td>30</td><td>0</td></tr><tr><td>1</td><td>126</td><td>60</td><td>0</td><td>0</td><td>30.1</td><td>0.349</td><td>47</td><td>1</td></tr><tr><td>1</td><td>93</td><td>70</td><td>31</td><td>0</td><td>30.4</td><td>0.315</td><td>23</td><td>0</td></tr></tbody></table></div>"
      ],
      "text/plain": [
       "shape: (768, 9)\n",
       "┌─────────────┬─────────┬───────────────┬───────────────┬───┬──────┬───────────────┬─────┬─────────┐\n",
       "│ Pregnancies ┆ Glucose ┆ BloodPressure ┆ SkinThickness ┆ … ┆ BMI  ┆ DiabetesPedig ┆ Age ┆ Outcome │\n",
       "│ ---         ┆ ---     ┆ ---           ┆ ---           ┆   ┆ ---  ┆ reeFunction   ┆ --- ┆ ---     │\n",
       "│ i64         ┆ i64     ┆ i64           ┆ i64           ┆   ┆ f64  ┆ ---           ┆ i64 ┆ i64     │\n",
       "│             ┆         ┆               ┆               ┆   ┆      ┆ f64           ┆     ┆         │\n",
       "╞═════════════╪═════════╪═══════════════╪═══════════════╪═══╪══════╪═══════════════╪═════╪═════════╡\n",
       "│ 6           ┆ 148     ┆ 72            ┆ 35            ┆ … ┆ 33.6 ┆ 0.627         ┆ 50  ┆ 1       │\n",
       "│ 1           ┆ 85      ┆ 66            ┆ 29            ┆ … ┆ 26.6 ┆ 0.351         ┆ 31  ┆ 0       │\n",
       "│ 8           ┆ 183     ┆ 64            ┆ 0             ┆ … ┆ 23.3 ┆ 0.672         ┆ 32  ┆ 1       │\n",
       "│ 1           ┆ 89      ┆ 66            ┆ 23            ┆ … ┆ 28.1 ┆ 0.167         ┆ 21  ┆ 0       │\n",
       "│ 0           ┆ 137     ┆ 40            ┆ 35            ┆ … ┆ 43.1 ┆ 2.288         ┆ 33  ┆ 1       │\n",
       "│ …           ┆ …       ┆ …             ┆ …             ┆ … ┆ …    ┆ …             ┆ …   ┆ …       │\n",
       "│ 10          ┆ 101     ┆ 76            ┆ 48            ┆ … ┆ 32.9 ┆ 0.171         ┆ 63  ┆ 0       │\n",
       "│ 2           ┆ 122     ┆ 70            ┆ 27            ┆ … ┆ 36.8 ┆ 0.34          ┆ 27  ┆ 0       │\n",
       "│ 5           ┆ 121     ┆ 72            ┆ 23            ┆ … ┆ 26.2 ┆ 0.245         ┆ 30  ┆ 0       │\n",
       "│ 1           ┆ 126     ┆ 60            ┆ 0             ┆ … ┆ 30.1 ┆ 0.349         ┆ 47  ┆ 1       │\n",
       "│ 1           ┆ 93      ┆ 70            ┆ 31            ┆ … ┆ 30.4 ┆ 0.315         ┆ 23  ┆ 0       │\n",
       "└─────────────┴─────────┴───────────────┴───────────────┴───┴──────┴───────────────┴─────┴─────────┘"
      ]
     },
     "execution_count": 109,
     "metadata": {},
     "output_type": "execute_result"
    }
   ],
   "source": [
    "import polars as pl\n",
    "\n",
    "\n",
    "df= pl.read_csv('https://frenzy86.s3.eu-west-2.amazonaws.com/python/data/diabetes_1.csv')\n",
    "df"
   ]
  },
  {
   "cell_type": "code",
   "execution_count": 110,
   "metadata": {},
   "outputs": [
    {
     "data": {
      "text/html": [
       "<div><style>\n",
       ".dataframe > thead > tr,\n",
       ".dataframe > tbody > tr {\n",
       "  text-align: right;\n",
       "  white-space: pre-wrap;\n",
       "}\n",
       "</style>\n",
       "<small>shape: (1, 9)</small><table border=\"1\" class=\"dataframe\"><thead><tr><th>Pregnancies</th><th>Glucose</th><th>BloodPressure</th><th>SkinThickness</th><th>Insulin</th><th>BMI</th><th>DiabetesPedigreeFunction</th><th>Age</th><th>Outcome</th></tr><tr><td>u32</td><td>u32</td><td>u32</td><td>u32</td><td>u32</td><td>u32</td><td>u32</td><td>u32</td><td>u32</td></tr></thead><tbody><tr><td>0</td><td>0</td><td>0</td><td>0</td><td>0</td><td>0</td><td>0</td><td>0</td><td>0</td></tr></tbody></table></div>"
      ],
      "text/plain": [
       "shape: (1, 9)\n",
       "┌─────────────┬─────────┬───────────────┬───────────────┬───┬─────┬────────────────┬─────┬─────────┐\n",
       "│ Pregnancies ┆ Glucose ┆ BloodPressure ┆ SkinThickness ┆ … ┆ BMI ┆ DiabetesPedigr ┆ Age ┆ Outcome │\n",
       "│ ---         ┆ ---     ┆ ---           ┆ ---           ┆   ┆ --- ┆ eeFunction     ┆ --- ┆ ---     │\n",
       "│ u32         ┆ u32     ┆ u32           ┆ u32           ┆   ┆ u32 ┆ ---            ┆ u32 ┆ u32     │\n",
       "│             ┆         ┆               ┆               ┆   ┆     ┆ u32            ┆     ┆         │\n",
       "╞═════════════╪═════════╪═══════════════╪═══════════════╪═══╪═════╪════════════════╪═════╪═════════╡\n",
       "│ 0           ┆ 0       ┆ 0             ┆ 0             ┆ … ┆ 0   ┆ 0              ┆ 0   ┆ 0       │\n",
       "└─────────────┴─────────┴───────────────┴───────────────┴───┴─────┴────────────────┴─────┴─────────┘"
      ]
     },
     "execution_count": 110,
     "metadata": {},
     "output_type": "execute_result"
    }
   ],
   "source": [
    "df.null_count()"
   ]
  },
  {
   "cell_type": "code",
   "execution_count": 111,
   "metadata": {},
   "outputs": [
    {
     "data": {
      "text/html": [
       "<div><style>\n",
       ".dataframe > thead > tr,\n",
       ".dataframe > tbody > tr {\n",
       "  text-align: right;\n",
       "  white-space: pre-wrap;\n",
       "}\n",
       "</style>\n",
       "<small>shape: (9, 9)</small><table border=\"1\" class=\"dataframe\"><thead><tr><th>Pregnancies</th><th>Glucose</th><th>BloodPressure</th><th>SkinThickness</th><th>Insulin</th><th>BMI</th><th>DiabetesPedigreeFunction</th><th>Age</th><th>Outcome</th></tr><tr><td>f64</td><td>f64</td><td>f64</td><td>f64</td><td>f64</td><td>f64</td><td>f64</td><td>f64</td><td>f64</td></tr></thead><tbody><tr><td>1.0</td><td>0.129459</td><td>0.141282</td><td>-0.081672</td><td>-0.073535</td><td>0.017683</td><td>-0.033523</td><td>0.544341</td><td>0.221898</td></tr><tr><td>0.129459</td><td>1.0</td><td>0.15259</td><td>0.057328</td><td>0.331357</td><td>0.221071</td><td>0.137337</td><td>0.263514</td><td>0.466581</td></tr><tr><td>0.141282</td><td>0.15259</td><td>1.0</td><td>0.207371</td><td>0.088933</td><td>0.281805</td><td>0.041265</td><td>0.239528</td><td>0.065068</td></tr><tr><td>-0.081672</td><td>0.057328</td><td>0.207371</td><td>1.0</td><td>0.436783</td><td>0.392573</td><td>0.183928</td><td>-0.11397</td><td>0.074752</td></tr><tr><td>-0.073535</td><td>0.331357</td><td>0.088933</td><td>0.436783</td><td>1.0</td><td>0.197859</td><td>0.185071</td><td>-0.042163</td><td>0.130548</td></tr><tr><td>0.017683</td><td>0.221071</td><td>0.281805</td><td>0.392573</td><td>0.197859</td><td>1.0</td><td>0.140647</td><td>0.036242</td><td>0.292695</td></tr><tr><td>-0.033523</td><td>0.137337</td><td>0.041265</td><td>0.183928</td><td>0.185071</td><td>0.140647</td><td>1.0</td><td>0.033561</td><td>0.173844</td></tr><tr><td>0.544341</td><td>0.263514</td><td>0.239528</td><td>-0.11397</td><td>-0.042163</td><td>0.036242</td><td>0.033561</td><td>1.0</td><td>0.238356</td></tr><tr><td>0.221898</td><td>0.466581</td><td>0.065068</td><td>0.074752</td><td>0.130548</td><td>0.292695</td><td>0.173844</td><td>0.238356</td><td>1.0</td></tr></tbody></table></div>"
      ],
      "text/plain": [
       "shape: (9, 9)\n",
       "┌────────────┬──────────┬────────────┬───────────┬───┬──────────┬───────────┬───────────┬──────────┐\n",
       "│ Pregnancie ┆ Glucose  ┆ BloodPress ┆ SkinThick ┆ … ┆ BMI      ┆ DiabetesP ┆ Age       ┆ Outcome  │\n",
       "│ s          ┆ ---      ┆ ure        ┆ ness      ┆   ┆ ---      ┆ edigreeFu ┆ ---       ┆ ---      │\n",
       "│ ---        ┆ f64      ┆ ---        ┆ ---       ┆   ┆ f64      ┆ nction    ┆ f64       ┆ f64      │\n",
       "│ f64        ┆          ┆ f64        ┆ f64       ┆   ┆          ┆ ---       ┆           ┆          │\n",
       "│            ┆          ┆            ┆           ┆   ┆          ┆ f64       ┆           ┆          │\n",
       "╞════════════╪══════════╪════════════╪═══════════╪═══╪══════════╪═══════════╪═══════════╪══════════╡\n",
       "│ 1.0        ┆ 0.129459 ┆ 0.141282   ┆ -0.081672 ┆ … ┆ 0.017683 ┆ -0.033523 ┆ 0.544341  ┆ 0.221898 │\n",
       "│ 0.129459   ┆ 1.0      ┆ 0.15259    ┆ 0.057328  ┆ … ┆ 0.221071 ┆ 0.137337  ┆ 0.263514  ┆ 0.466581 │\n",
       "│ 0.141282   ┆ 0.15259  ┆ 1.0        ┆ 0.207371  ┆ … ┆ 0.281805 ┆ 0.041265  ┆ 0.239528  ┆ 0.065068 │\n",
       "│ -0.081672  ┆ 0.057328 ┆ 0.207371   ┆ 1.0       ┆ … ┆ 0.392573 ┆ 0.183928  ┆ -0.11397  ┆ 0.074752 │\n",
       "│ -0.073535  ┆ 0.331357 ┆ 0.088933   ┆ 0.436783  ┆ … ┆ 0.197859 ┆ 0.185071  ┆ -0.042163 ┆ 0.130548 │\n",
       "│ 0.017683   ┆ 0.221071 ┆ 0.281805   ┆ 0.392573  ┆ … ┆ 1.0      ┆ 0.140647  ┆ 0.036242  ┆ 0.292695 │\n",
       "│ -0.033523  ┆ 0.137337 ┆ 0.041265   ┆ 0.183928  ┆ … ┆ 0.140647 ┆ 1.0       ┆ 0.033561  ┆ 0.173844 │\n",
       "│ 0.544341   ┆ 0.263514 ┆ 0.239528   ┆ -0.11397  ┆ … ┆ 0.036242 ┆ 0.033561  ┆ 1.0       ┆ 0.238356 │\n",
       "│ 0.221898   ┆ 0.466581 ┆ 0.065068   ┆ 0.074752  ┆ … ┆ 0.292695 ┆ 0.173844  ┆ 0.238356  ┆ 1.0      │\n",
       "└────────────┴──────────┴────────────┴───────────┴───┴──────────┴───────────┴───────────┴──────────┘"
      ]
     },
     "execution_count": 111,
     "metadata": {},
     "output_type": "execute_result"
    }
   ],
   "source": [
    "df.corr()"
   ]
  },
  {
   "cell_type": "code",
   "execution_count": 112,
   "metadata": {},
   "outputs": [
    {
     "data": {
      "text/html": [
       "<div><style>\n",
       ".dataframe > thead > tr,\n",
       ".dataframe > tbody > tr {\n",
       "  text-align: right;\n",
       "  white-space: pre-wrap;\n",
       "}\n",
       "</style>\n",
       "<small>shape: (9, 10)</small><table border=\"1\" class=\"dataframe\"><thead><tr><th>statistic</th><th>Pregnancies</th><th>Glucose</th><th>BloodPressure</th><th>SkinThickness</th><th>Insulin</th><th>BMI</th><th>DiabetesPedigreeFunction</th><th>Age</th><th>Outcome</th></tr><tr><td>str</td><td>f64</td><td>f64</td><td>f64</td><td>f64</td><td>f64</td><td>f64</td><td>f64</td><td>f64</td><td>f64</td></tr></thead><tbody><tr><td>&quot;count&quot;</td><td>768.0</td><td>768.0</td><td>768.0</td><td>768.0</td><td>768.0</td><td>768.0</td><td>768.0</td><td>768.0</td><td>768.0</td></tr><tr><td>&quot;null_count&quot;</td><td>0.0</td><td>0.0</td><td>0.0</td><td>0.0</td><td>0.0</td><td>0.0</td><td>0.0</td><td>0.0</td><td>0.0</td></tr><tr><td>&quot;mean&quot;</td><td>3.845052</td><td>120.894531</td><td>69.105469</td><td>20.536458</td><td>79.799479</td><td>31.992578</td><td>0.471876</td><td>33.240885</td><td>0.348958</td></tr><tr><td>&quot;std&quot;</td><td>3.369578</td><td>31.972618</td><td>19.355807</td><td>15.952218</td><td>115.244002</td><td>7.88416</td><td>0.331329</td><td>11.760232</td><td>0.476951</td></tr><tr><td>&quot;min&quot;</td><td>0.0</td><td>0.0</td><td>0.0</td><td>0.0</td><td>0.0</td><td>0.0</td><td>0.078</td><td>21.0</td><td>0.0</td></tr><tr><td>&quot;25%&quot;</td><td>1.0</td><td>99.0</td><td>62.0</td><td>0.0</td><td>0.0</td><td>27.3</td><td>0.244</td><td>24.0</td><td>0.0</td></tr><tr><td>&quot;50%&quot;</td><td>3.0</td><td>117.0</td><td>72.0</td><td>23.0</td><td>32.0</td><td>32.0</td><td>0.374</td><td>29.0</td><td>0.0</td></tr><tr><td>&quot;75%&quot;</td><td>6.0</td><td>140.0</td><td>80.0</td><td>32.0</td><td>127.0</td><td>36.6</td><td>0.626</td><td>41.0</td><td>1.0</td></tr><tr><td>&quot;max&quot;</td><td>17.0</td><td>199.0</td><td>122.0</td><td>99.0</td><td>846.0</td><td>67.1</td><td>2.42</td><td>81.0</td><td>1.0</td></tr></tbody></table></div>"
      ],
      "text/plain": [
       "shape: (9, 10)\n",
       "┌───────────┬───────────┬───────────┬───────────┬───┬───────────┬───────────┬───────────┬──────────┐\n",
       "│ statistic ┆ Pregnanci ┆ Glucose   ┆ BloodPres ┆ … ┆ BMI       ┆ DiabetesP ┆ Age       ┆ Outcome  │\n",
       "│ ---       ┆ es        ┆ ---       ┆ sure      ┆   ┆ ---       ┆ edigreeFu ┆ ---       ┆ ---      │\n",
       "│ str       ┆ ---       ┆ f64       ┆ ---       ┆   ┆ f64       ┆ nction    ┆ f64       ┆ f64      │\n",
       "│           ┆ f64       ┆           ┆ f64       ┆   ┆           ┆ ---       ┆           ┆          │\n",
       "│           ┆           ┆           ┆           ┆   ┆           ┆ f64       ┆           ┆          │\n",
       "╞═══════════╪═══════════╪═══════════╪═══════════╪═══╪═══════════╪═══════════╪═══════════╪══════════╡\n",
       "│ count     ┆ 768.0     ┆ 768.0     ┆ 768.0     ┆ … ┆ 768.0     ┆ 768.0     ┆ 768.0     ┆ 768.0    │\n",
       "│ null_coun ┆ 0.0       ┆ 0.0       ┆ 0.0       ┆ … ┆ 0.0       ┆ 0.0       ┆ 0.0       ┆ 0.0      │\n",
       "│ t         ┆           ┆           ┆           ┆   ┆           ┆           ┆           ┆          │\n",
       "│ mean      ┆ 3.845052  ┆ 120.89453 ┆ 69.105469 ┆ … ┆ 31.992578 ┆ 0.471876  ┆ 33.240885 ┆ 0.348958 │\n",
       "│           ┆           ┆ 1         ┆           ┆   ┆           ┆           ┆           ┆          │\n",
       "│ std       ┆ 3.369578  ┆ 31.972618 ┆ 19.355807 ┆ … ┆ 7.88416   ┆ 0.331329  ┆ 11.760232 ┆ 0.476951 │\n",
       "│ min       ┆ 0.0       ┆ 0.0       ┆ 0.0       ┆ … ┆ 0.0       ┆ 0.078     ┆ 21.0      ┆ 0.0      │\n",
       "│ 25%       ┆ 1.0       ┆ 99.0      ┆ 62.0      ┆ … ┆ 27.3      ┆ 0.244     ┆ 24.0      ┆ 0.0      │\n",
       "│ 50%       ┆ 3.0       ┆ 117.0     ┆ 72.0      ┆ … ┆ 32.0      ┆ 0.374     ┆ 29.0      ┆ 0.0      │\n",
       "│ 75%       ┆ 6.0       ┆ 140.0     ┆ 80.0      ┆ … ┆ 36.6      ┆ 0.626     ┆ 41.0      ┆ 1.0      │\n",
       "│ max       ┆ 17.0      ┆ 199.0     ┆ 122.0     ┆ … ┆ 67.1      ┆ 2.42      ┆ 81.0      ┆ 1.0      │\n",
       "└───────────┴───────────┴───────────┴───────────┴───┴───────────┴───────────┴───────────┴──────────┘"
      ]
     },
     "execution_count": 112,
     "metadata": {},
     "output_type": "execute_result"
    }
   ],
   "source": [
    "df.describe()"
   ]
  },
  {
   "cell_type": "code",
   "execution_count": 113,
   "metadata": {},
   "outputs": [],
   "source": [
    "#X = df.select('Pregnancies','Glucose','BloodPressure','SkinThickness','Insulin','BMI','DiabetesPedigreeFunction','Age')\n",
    "X = df.select('Glucose','BMI','Age','Pregnancies')\n",
    "y = df.select('Outcome')"
   ]
  },
  {
   "cell_type": "code",
   "execution_count": 114,
   "metadata": {},
   "outputs": [],
   "source": [
    "from sklearn.model_selection import train_test_split\n",
    "\n",
    "X_train, X_test, y_train, y_test = train_test_split(X, y, test_size=0.25, random_state=16)"
   ]
  },
  {
   "cell_type": "code",
   "execution_count": 115,
   "metadata": {},
   "outputs": [
    {
     "name": "stderr",
     "output_type": "stream",
     "text": [
      "/usr/lib/python3/dist-packages/sklearn/utils/validation.py:1300: DataConversionWarning: A column-vector y was passed when a 1d array was expected. Please change the shape of y to (n_samples, ), for example using ravel().\n",
      "  y = column_or_1d(y, warn=True)\n"
     ]
    }
   ],
   "source": [
    "from sklearn.linear_model import LogisticRegression\n",
    "\n",
    "model=LogisticRegression()\n",
    "\n",
    "model.fit(X=X_train,y=y_train)\n",
    "\n",
    "y_pred=model.predict(X_test)"
   ]
  },
  {
   "cell_type": "code",
   "execution_count": 116,
   "metadata": {},
   "outputs": [
    {
     "data": {
      "text/plain": [
       "array([[114,  11],\n",
       "       [ 27,  40]])"
      ]
     },
     "execution_count": 116,
     "metadata": {},
     "output_type": "execute_result"
    }
   ],
   "source": [
    "from sklearn import metrics\n",
    "\n",
    "cnf_matrix = metrics.confusion_matrix(y_test, y_pred)\n",
    "cnf_matrix"
   ]
  },
  {
   "cell_type": "code",
   "execution_count": 117,
   "metadata": {},
   "outputs": [
    {
     "data": {
      "application/vnd.jupyter.widget-view+json": {
       "model_id": "8c26d53ba5a440c9911fd807612d1018",
       "version_major": 2,
       "version_minor": 0
      },
      "text/plain": [
       "interactive(children=(FloatSlider(value=0.5, description='threshold', max=1.0, step=0.01), Output()), _dom_cla…"
      ]
     },
     "execution_count": 117,
     "metadata": {},
     "output_type": "execute_result"
    }
   ],
   "source": [
    "from sklearn.metrics import confusion_matrix\n",
    "import matplotlib.pyplot as plt\n",
    "import seaborn as sns\n",
    "# see how model confusion matrix varies with threshold\n",
    "bestmodel = model\n",
    "\n",
    "#labels = y_test.sort_values().drop_duplicates().to_list()\n",
    "labels = ['No Diabetics','Diabetics']\n",
    "\n",
    "def make_confusion_matrix(model, threshold=0.5):\n",
    "    # Predict class 1 if probability of being in class 1 is greater than threshold\n",
    "    # (bestmodel.predict(X_test) is done automatically with a threshold of 0.5)\n",
    "    y_pred = (bestmodel.predict_proba(X_test)[:, 1] >= threshold)\n",
    "    conf = confusion_matrix(y_test, y_pred)\n",
    "    plt.figure(figsize = [6,6])\n",
    "    sns.heatmap(conf, cmap='Blues', annot=True, square=True, cbar=False,\n",
    "           xticklabels=labels,\n",
    "           yticklabels=labels,fmt='.3g');\n",
    "    plt.xlabel('Actual')\n",
    "    plt.ylabel('Prediction')\n",
    "    plt.show() # This is part that needs to be added to fix the issue\n",
    "\n",
    "# Let's see how our confusion matrix changes with changes to the cutoff!\n",
    "from ipywidgets import interactive, FloatSlider\n",
    "interactive(lambda threshold: make_confusion_matrix(bestmodel, threshold), threshold=(0.0,1.0,0.01))"
   ]
  },
  {
   "cell_type": "code",
   "execution_count": 118,
   "metadata": {},
   "outputs": [
    {
     "name": "stdout",
     "output_type": "stream",
     "text": [
      "                  precision    recall  f1-score   support\n",
      "\n",
      "without diabetes       0.81      0.91      0.86       125\n",
      "   with diabetes       0.78      0.60      0.68        67\n",
      "\n",
      "        accuracy                           0.80       192\n",
      "       macro avg       0.80      0.75      0.77       192\n",
      "    weighted avg       0.80      0.80      0.79       192\n",
      "\n"
     ]
    }
   ],
   "source": [
    "from sklearn.metrics import classification_report\n",
    "target_names = ['without diabetes', 'with diabetes']\n",
    "print(classification_report(y_test, y_pred, target_names=target_names))"
   ]
  },
  {
   "cell_type": "code",
   "execution_count": 119,
   "metadata": {},
   "outputs": [
    {
     "data": {
      "image/png": "[encoded data removed]",
      "text/plain": [
       "<Figure size 640x480 with 1 Axes>"
      ]
     },
     "metadata": {},
     "output_type": "display_data"
    }
   ],
   "source": [
    "from matplotlib import axes\n",
    "y_pred_proba = model.predict_proba(X_test)[::,1]\n",
    "fpr, tpr, _ = metrics.roc_curve(y_test,  y_pred_proba)\n",
    "auc = metrics.roc_auc_score(y_test, y_pred_proba)\n",
    "plt.plot(fpr,tpr,label=\"data 1, auc=\"+str(auc))\n",
    "plt.plot([0, 1], [0, 1])\n",
    "plt.legend(loc=4)\n",
    "plt.show()"
   ]
  },
  {
   "cell_type": "code",
   "execution_count": 120,
   "metadata": {},
   "outputs": [
    {
     "data": {
      "text/plain": [
       "['diabetes.pkl']"
      ]
     },
     "execution_count": 120,
     "metadata": {},
     "output_type": "execute_result"
    }
   ],
   "source": [
    "import joblib\n",
    "\n",
    "joblib.dump(model,'diabetes.pkl')"
   ]
  }
 ],
 "metadata": {
  "kernelspec": {
   "display_name": "Python 3",
   "language": "python",
   "name": "python3"
  },
  "language_info": {
   "codemirror_mode": {
    "name": "ipython",
    "version": 3
   },
   "file_extension": ".py",
   "mimetype": "text/x-python",
   "name": "python",
   "nbconvert_exporter": "python",
   "pygments_lexer": "ipython3",
   "version": "3.12.3"
  }
 },
 "nbformat": 4,
 "nbformat_minor": 2
}
