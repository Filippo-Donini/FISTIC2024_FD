{
 "cells": [
  {
   "cell_type": "code",
   "execution_count": null,
   "metadata": {},
   "outputs": [
    {
     "data": {
      "text/html": [
       "<div><style>\n",
       ".dataframe > thead > tr,\n",
       ".dataframe > tbody > tr {\n",
       "  text-align: right;\n",
       "  white-space: pre-wrap;\n",
       "}\n",
       "</style>\n",
       "<small>shape: (45_211, 1)</small><table border=\"1\" class=\"dataframe\"><thead><tr><th>age&quot;;&quot;job&quot;;&quot;marital&quot;;&quot;education&quot;;&quot;default&quot;;&quot;balance&quot;;&quot;housing&quot;;&quot;loan&quot;;&quot;contact&quot;;&quot;day&quot;;&quot;month&quot;;&quot;duration&quot;;&quot;campaign&quot;;&quot;pdays&quot;;&quot;previous&quot;;&quot;poutcome&quot;;&quot;y</th></tr><tr><td>str</td></tr></thead><tbody><tr><td>&quot;58;&quot;management&quot;;&quot;married&quot;;&quot;ter…</td></tr><tr><td>&quot;44;&quot;technician&quot;;&quot;single&quot;;&quot;seco…</td></tr><tr><td>&quot;33;&quot;entrepreneur&quot;;&quot;married&quot;;&quot;s…</td></tr><tr><td>&quot;47;&quot;blue-collar&quot;;&quot;married&quot;;&quot;un…</td></tr><tr><td>&quot;33;&quot;unknown&quot;;&quot;single&quot;;&quot;unknown…</td></tr><tr><td>&hellip;</td></tr><tr><td>&quot;51;&quot;technician&quot;;&quot;married&quot;;&quot;ter…</td></tr><tr><td>&quot;71;&quot;retired&quot;;&quot;divorced&quot;;&quot;prima…</td></tr><tr><td>&quot;72;&quot;retired&quot;;&quot;married&quot;;&quot;second…</td></tr><tr><td>&quot;57;&quot;blue-collar&quot;;&quot;married&quot;;&quot;se…</td></tr><tr><td>&quot;37;&quot;entrepreneur&quot;;&quot;married&quot;;&quot;s…</td></tr></tbody></table></div>"
      ],
      "text/plain": [
       "shape: (45_211, 1)\n",
       "┌─────────────────────────────────┐\n",
       "│ age\";\"job\";\"marital\";\"educatio… │\n",
       "│ ---                             │\n",
       "│ str                             │\n",
       "╞═════════════════════════════════╡\n",
       "│ 58;\"management\";\"married\";\"ter… │\n",
       "│ 44;\"technician\";\"single\";\"seco… │\n",
       "│ 33;\"entrepreneur\";\"married\";\"s… │\n",
       "│ 47;\"blue-collar\";\"married\";\"un… │\n",
       "│ 33;\"unknown\";\"single\";\"unknown… │\n",
       "│ …                               │\n",
       "│ 51;\"technician\";\"married\";\"ter… │\n",
       "│ 71;\"retired\";\"divorced\";\"prima… │\n",
       "│ 72;\"retired\";\"married\";\"second… │\n",
       "│ 57;\"blue-collar\";\"married\";\"se… │\n",
       "│ 37;\"entrepreneur\";\"married\";\"s… │\n",
       "└─────────────────────────────────┘"
      ]
     },
     "execution_count": 8,
     "metadata": {},
     "output_type": "execute_result"
    }
   ],
   "source": [
    "import polars as pl\n",
    "\n",
    "df_pl=pl.read_csv('bank-full.csv')\n",
    "df_pl"
   ]
  },
  {
   "cell_type": "code",
   "execution_count": null,
   "metadata": {},
   "outputs": [],
   "source": [
    "import pandas as pd\n",
    "\n",
    "df=pd."
   ]
  }
 ],
 "metadata": {
  "kernelspec": {
   "display_name": "Python 3",
   "language": "python",
   "name": "python3"
  },
  "language_info": {
   "codemirror_mode": {
    "name": "ipython",
    "version": 3
   },
   "file_extension": ".py",
   "mimetype": "text/x-python",
   "name": "python",
   "nbconvert_exporter": "python",
   "pygments_lexer": "ipython3",
   "version": "3.12.3"
  }
 },
 "nbformat": 4,
 "nbformat_minor": 2
}
