{
 "cells": [
  {
   "cell_type": "code",
   "execution_count": 2,
   "metadata": {},
   "outputs": [
    {
     "name": "stderr",
     "output_type": "stream",
     "text": [
      "Could not determine dtype for column 8, falling back to string\n"
     ]
    },
    {
     "data": {
      "text/html": [
       "<div><style>\n",
       ".dataframe > thead > tr,\n",
       ".dataframe > tbody > tr {\n",
       "  text-align: right;\n",
       "  white-space: pre-wrap;\n",
       "}\n",
       "</style>\n",
       "<small>shape: (1_235, 14)</small><table border=\"1\" class=\"dataframe\"><thead><tr><th>Message-ID</th><th>Date</th><th>From</th><th>To</th><th>Subject</th><th>X-From</th><th>X-To</th><th>X-cc</th><th>X-bcc</th><th>X-Folder</th><th>X-Origin</th><th>X-FileName</th><th>content</th><th>user</th></tr><tr><td>str</td><td>f64</td><td>str</td><td>str</td><td>str</td><td>str</td><td>str</td><td>str</td><td>str</td><td>str</td><td>str</td><td>str</td><td>str</td><td>str</td></tr></thead><tbody><tr><td>&quot;&lt;18782981.1075855378110.JavaMa…</td><td>37025.985417</td><td>&quot;frozenset({&#x27;phillip.allen@enro…</td><td>&quot;frozenset({&#x27;tim.belden@enron.c…</td><td>null</td><td>&quot;Phillip K Allen&quot;</td><td>&quot;Tim Belden &lt;Tim Belden/Enron@E…</td><td>null</td><td>null</td><td>&quot;\\Phillip_Allen_Jan2002_1\\Allen…</td><td>&quot;Allen-P&quot;</td><td>&quot;pallen (Non-Privileged).pst&quot;</td><td>&quot;Here is our forecast&quot;</td><td>&quot;allen-p&quot;</td></tr><tr><td>&quot;&lt;15464986.1075855378456.JavaMa…</td><td>37015.86875</td><td>&quot;frozenset({&#x27;phillip.allen@enro…</td><td>&quot;frozenset({&#x27;john.lavorato@enro…</td><td>&quot;Re:&quot;</td><td>&quot;Phillip K Allen&quot;</td><td>&quot;John J Lavorato &lt;John J Lavora…</td><td>null</td><td>null</td><td>&quot;\\Phillip_Allen_Jan2002_1\\Allen…</td><td>&quot;Allen-P&quot;</td><td>&quot;pallen (Non-Privileged).pst&quot;</td><td>&quot;Traveling to have a business m…</td><td>&quot;allen-p&quot;</td></tr><tr><td>&quot;&lt;24216240.1075855687451.JavaMa…</td><td>36817.416667</td><td>&quot;frozenset({&#x27;phillip.allen@enro…</td><td>&quot;frozenset({&#x27;leah.arsdall@enron…</td><td>&quot;Re: test&quot;</td><td>&quot;Phillip K Allen&quot;</td><td>&quot;Leah Van Arsdall&quot;</td><td>null</td><td>null</td><td>&quot;\\Phillip_Allen_Dec2000\\Notes F…</td><td>&quot;Allen-P&quot;</td><td>&quot;pallen.nsf&quot;</td><td>&quot;test successful. way to go!!!&quot;</td><td>&quot;allen-p&quot;</td></tr><tr><td>&quot;&lt;13505866.1075863688222.JavaMa…</td><td>36822.550694</td><td>&quot;frozenset({&#x27;phillip.allen@enro…</td><td>&quot;frozenset({&#x27;randall.gay@enron.…</td><td>null</td><td>&quot;Phillip K Allen&quot;</td><td>&quot;Randall L Gay&quot;</td><td>null</td><td>null</td><td>&quot;\\Phillip_Allen_Dec2000\\Notes F…</td><td>&quot;Allen-P&quot;</td><td>&quot;pallen.nsf&quot;</td><td>&quot;Randy, Can you send me a sched…</td><td>&quot;allen-p&quot;</td></tr><tr><td>&quot;&lt;30922949.1075863688243.JavaMa…</td><td>36769.504861</td><td>&quot;frozenset({&#x27;phillip.allen@enro…</td><td>&quot;frozenset({&#x27;greg.piper@enron.c…</td><td>&quot;Re: Hello&quot;</td><td>&quot;Phillip K Allen&quot;</td><td>&quot;Greg Piper&quot;</td><td>null</td><td>null</td><td>&quot;\\Phillip_Allen_Dec2000\\Notes F…</td><td>&quot;Allen-P&quot;</td><td>&quot;pallen.nsf&quot;</td><td>&quot;Let&#x27;s shoot for Tuesday at 11:…</td><td>&quot;allen-p&quot;</td></tr><tr><td>&hellip;</td><td>&hellip;</td><td>&hellip;</td><td>&hellip;</td><td>&hellip;</td><td>&hellip;</td><td>&hellip;</td><td>&hellip;</td><td>&hellip;</td><td>&hellip;</td><td>&hellip;</td><td>&hellip;</td><td>&hellip;</td><td>&hellip;</td></tr><tr><td>&quot;&lt;15816310.1075855374294.JavaMa…</td><td>37026.0125</td><td>&quot;frozenset({&#x27;outlook-migration-…</td><td>null</td><td>&quot;Lee Odonnel&quot;</td><td>&quot;Outlook-Migration-Team &lt;/O=ENR…</td><td>null</td><td>null</td><td>null</td><td>&quot;\\Phillip_Allen_Jan2002_1\\Allen…</td><td>&quot;Allen-P&quot;</td><td>&quot;pallen (Non-Privileged).pst&quot;</td><td>&quot;loan servicing-jessica weeber …</td><td>&quot;allen-p&quot;</td></tr><tr><td>&quot;&lt;6521706.1075855374316.JavaMai…</td><td>37026.0125</td><td>&quot;frozenset({&#x27;outlook-migration-…</td><td>null</td><td>&quot;Greg Thorse&quot;</td><td>&quot;Outlook-Migration-Team &lt;/O=ENR…</td><td>null</td><td>null</td><td>null</td><td>&quot;\\Phillip_Allen_Jan2002_1\\Allen…</td><td>&quot;Allen-P&quot;</td><td>&quot;pallen (Non-Privileged).pst&quot;</td><td>&quot;exit mccollough off 410&quot;</td><td>&quot;allen-p&quot;</td></tr><tr><td>&quot;&lt;21543395.1075855374340.JavaMa…</td><td>37255.763194</td><td>&quot;frozenset({&#x27;pallen70@hotmail.c…</td><td>&quot;frozenset({&#x27;pallen@enron.com&#x27;}…</td><td>&quot;Fwd: Bishops Corner&quot;</td><td>&quot;&quot;phillip allen&quot; &lt;pallen70@hotm…</td><td>&quot;pallen@enron.com&quot;</td><td>null</td><td>null</td><td>&quot;\\Phillip_Allen_Jan2002_1\\Allen…</td><td>&quot;Allen-P&quot;</td><td>&quot;pallen (Non-Privileged).pst&quot;</td><td>&quot;&gt;From: &quot;Greg Thorse&quot; &gt;To: &gt;CC:…</td><td>&quot;allen-p&quot;</td></tr><tr><td>&quot;&lt;25363451.1075855374674.JavaMa…</td><td>37253.052778</td><td>&quot;frozenset({&#x27;arsystem@mailman.e…</td><td>&quot;frozenset({&#x27;k..allen@enron.com…</td><td>&quot;Your Approval is Overdue: Acce…</td><td>&quot;ARSystem &lt;ARSystem@mailman.enr…</td><td>&quot;Allen, Phillip K. &lt;/O=ENRON/OU…</td><td>null</td><td>null</td><td>&quot;\\Phillip_Allen_Jan2002_1\\Allen…</td><td>&quot;Allen-P&quot;</td><td>&quot;pallen (Non-Privileged).pst&quot;</td><td>&quot;This request has been pending …</td><td>&quot;allen-p&quot;</td></tr><tr><td>&quot;&lt;19705494.1075858631723.JavaMa…</td><td>37182.93125</td><td>&quot;frozenset({&#x27;webmaster@earnings…</td><td>&quot;frozenset({&#x27;pallen@enron.com&#x27;}…</td><td>&quot;NT Earnings Information&quot;</td><td>&quot;&quot;Earnings.com&quot; &lt;webmaster@earn…</td><td>&quot;pallen@enron.com&quot;</td><td>null</td><td>null</td><td>&quot;\\PALLEN (Non-Privileged)\\Allen…</td><td>&quot;Allen-P&quot;</td><td>&quot;PALLEN (Non-Privileged).pst&quot;</td><td>&quot;If you cannot read this email,…</td><td>null</td></tr></tbody></table></div>"
      ],
      "text/plain": [
       "shape: (1_235, 14)\n",
       "┌────────────┬────────────┬───────────┬───────────┬───┬──────────┬───────────┬───────────┬─────────┐\n",
       "│ Message-ID ┆ Date       ┆ From      ┆ To        ┆ … ┆ X-Origin ┆ X-FileNam ┆ content   ┆ user    │\n",
       "│ ---        ┆ ---        ┆ ---       ┆ ---       ┆   ┆ ---      ┆ e         ┆ ---       ┆ ---     │\n",
       "│ str        ┆ f64        ┆ str       ┆ str       ┆   ┆ str      ┆ ---       ┆ str       ┆ str     │\n",
       "│            ┆            ┆           ┆           ┆   ┆          ┆ str       ┆           ┆         │\n",
       "╞════════════╪════════════╪═══════════╪═══════════╪═══╪══════════╪═══════════╪═══════════╪═════════╡\n",
       "│ <18782981. ┆ 37025.9854 ┆ frozenset ┆ frozenset ┆ … ┆ Allen-P  ┆ pallen    ┆ Here is   ┆ allen-p │\n",
       "│ 1075855378 ┆ 17         ┆ ({'philli ┆ ({'tim.be ┆   ┆          ┆ (Non-Priv ┆ our       ┆         │\n",
       "│ 110.JavaMa ┆            ┆ p.allen@e ┆ lden@enro ┆   ┆          ┆ ileged).p ┆ forecast  ┆         │\n",
       "│ …          ┆            ┆ nro…      ┆ n.c…      ┆   ┆          ┆ st        ┆           ┆         │\n",
       "│ <15464986. ┆ 37015.8687 ┆ frozenset ┆ frozenset ┆ … ┆ Allen-P  ┆ pallen    ┆ Traveling ┆ allen-p │\n",
       "│ 1075855378 ┆ 5          ┆ ({'philli ┆ ({'john.l ┆   ┆          ┆ (Non-Priv ┆ to have a ┆         │\n",
       "│ 456.JavaMa ┆            ┆ p.allen@e ┆ avorato@e ┆   ┆          ┆ ileged).p ┆ business  ┆         │\n",
       "│ …          ┆            ┆ nro…      ┆ nro…      ┆   ┆          ┆ st        ┆ m…        ┆         │\n",
       "│ <24216240. ┆ 36817.4166 ┆ frozenset ┆ frozenset ┆ … ┆ Allen-P  ┆ pallen.ns ┆ test succ ┆ allen-p │\n",
       "│ 1075855687 ┆ 67         ┆ ({'philli ┆ ({'leah.a ┆   ┆          ┆ f         ┆ essful.   ┆         │\n",
       "│ 451.JavaMa ┆            ┆ p.allen@e ┆ rsdall@en ┆   ┆          ┆           ┆ way to    ┆         │\n",
       "│ …          ┆            ┆ nro…      ┆ ron…      ┆   ┆          ┆           ┆ go!!!     ┆         │\n",
       "│ <13505866. ┆ 36822.5506 ┆ frozenset ┆ frozenset ┆ … ┆ Allen-P  ┆ pallen.ns ┆ Randy,    ┆ allen-p │\n",
       "│ 1075863688 ┆ 94         ┆ ({'philli ┆ ({'randal ┆   ┆          ┆ f         ┆ Can you   ┆         │\n",
       "│ 222.JavaMa ┆            ┆ p.allen@e ┆ l.gay@enr ┆   ┆          ┆           ┆ send me a ┆         │\n",
       "│ …          ┆            ┆ nro…      ┆ on.…      ┆   ┆          ┆           ┆ sched…    ┆         │\n",
       "│ <30922949. ┆ 36769.5048 ┆ frozenset ┆ frozenset ┆ … ┆ Allen-P  ┆ pallen.ns ┆ Let's     ┆ allen-p │\n",
       "│ 1075863688 ┆ 61         ┆ ({'philli ┆ ({'greg.p ┆   ┆          ┆ f         ┆ shoot for ┆         │\n",
       "│ 243.JavaMa ┆            ┆ p.allen@e ┆ iper@enro ┆   ┆          ┆           ┆ Tuesday   ┆         │\n",
       "│ …          ┆            ┆ nro…      ┆ n.c…      ┆   ┆          ┆           ┆ at 11:…   ┆         │\n",
       "│ …          ┆ …          ┆ …         ┆ …         ┆ … ┆ …        ┆ …         ┆ …         ┆ …       │\n",
       "│ <15816310. ┆ 37026.0125 ┆ frozenset ┆ null      ┆ … ┆ Allen-P  ┆ pallen    ┆ loan serv ┆ allen-p │\n",
       "│ 1075855374 ┆            ┆ ({'outloo ┆           ┆   ┆          ┆ (Non-Priv ┆ icing-jes ┆         │\n",
       "│ 294.JavaMa ┆            ┆ k-migrati ┆           ┆   ┆          ┆ ileged).p ┆ sica      ┆         │\n",
       "│ …          ┆            ┆ on-…      ┆           ┆   ┆          ┆ st        ┆ weeber …  ┆         │\n",
       "│ <6521706.1 ┆ 37026.0125 ┆ frozenset ┆ null      ┆ … ┆ Allen-P  ┆ pallen    ┆ exit mcco ┆ allen-p │\n",
       "│ 0758553743 ┆            ┆ ({'outloo ┆           ┆   ┆          ┆ (Non-Priv ┆ llough    ┆         │\n",
       "│ 16.JavaMai ┆            ┆ k-migrati ┆           ┆   ┆          ┆ ileged).p ┆ off 410   ┆         │\n",
       "│ …          ┆            ┆ on-…      ┆           ┆   ┆          ┆ st        ┆           ┆         │\n",
       "│ <21543395. ┆ 37255.7631 ┆ frozenset ┆ frozenset ┆ … ┆ Allen-P  ┆ pallen    ┆ >From:    ┆ allen-p │\n",
       "│ 1075855374 ┆ 94         ┆ ({'pallen ┆ ({'pallen ┆   ┆          ┆ (Non-Priv ┆ \"Greg     ┆         │\n",
       "│ 340.JavaMa ┆            ┆ 70@hotmai ┆ @enron.co ┆   ┆          ┆ ileged).p ┆ Thorse\"   ┆         │\n",
       "│ …          ┆            ┆ l.c…      ┆ m'}…      ┆   ┆          ┆ st        ┆ >To:      ┆         │\n",
       "│            ┆            ┆           ┆           ┆   ┆          ┆           ┆ >CC:…     ┆         │\n",
       "│ <25363451. ┆ 37253.0527 ┆ frozenset ┆ frozenset ┆ … ┆ Allen-P  ┆ pallen    ┆ This      ┆ allen-p │\n",
       "│ 1075855374 ┆ 78         ┆ ({'arsyst ┆ ({'k..all ┆   ┆          ┆ (Non-Priv ┆ request   ┆         │\n",
       "│ 674.JavaMa ┆            ┆ em@mailma ┆ en@enron. ┆   ┆          ┆ ileged).p ┆ has been  ┆         │\n",
       "│ …          ┆            ┆ n.e…      ┆ com…      ┆   ┆          ┆ st        ┆ pending … ┆         │\n",
       "│ <19705494. ┆ 37182.9312 ┆ frozenset ┆ frozenset ┆ … ┆ Allen-P  ┆ PALLEN    ┆ If you    ┆ null    │\n",
       "│ 1075858631 ┆ 5          ┆ ({'webmas ┆ ({'pallen ┆   ┆          ┆ (Non-Priv ┆ cannot    ┆         │\n",
       "│ 723.JavaMa ┆            ┆ ter@earni ┆ @enron.co ┆   ┆          ┆ ileged).p ┆ read this ┆         │\n",
       "│ …          ┆            ┆ ngs…      ┆ m'}…      ┆   ┆          ┆ st        ┆ email,…   ┆         │\n",
       "└────────────┴────────────┴───────────┴───────────┴───┴──────────┴───────────┴───────────┴─────────┘"
      ]
     },
     "execution_count": 2,
     "metadata": {},
     "output_type": "execute_result"
    }
   ],
   "source": [
    "import polars as pl\n",
    "\n",
    "email=pl.read_excel(\"email_re.xlsx\")\n",
    "email"
   ]
  },
  {
   "cell_type": "code",
   "execution_count": 3,
   "metadata": {},
   "outputs": [],
   "source": [
    "email.write_csv(\"email_re.csv\")"
   ]
  },
  {
   "cell_type": "code",
   "execution_count": 4,
   "metadata": {},
   "outputs": [],
   "source": [
    "import pandas as pd\n",
    "\n",
    "df=pd.read_csv(\"email_re.csv\")"
   ]
  },
  {
   "cell_type": "code",
   "execution_count": 5,
   "metadata": {},
   "outputs": [
    {
     "data": {
      "text/plain": [
       "'phillip.allen@enron.com'"
      ]
     },
     "execution_count": 5,
     "metadata": {},
     "output_type": "execute_result"
    }
   ],
   "source": [
    "import re\n",
    "\n",
    "pattern=r\"{'([^']+@[^']+)'}\"\n",
    "match = re.search(pattern, \"frozenset({'phillip.allen@enron.com'})\")\n",
    "match.group(1)"
   ]
  },
  {
   "cell_type": "code",
   "execution_count": 6,
   "metadata": {},
   "outputs": [],
   "source": [
    "def extract_email(frozenset_str):\n",
    "    pattern = r\"{'([^']+@[^']+)'}\"\n",
    "    match = re.search(pattern, frozenset_str)\n",
    "    return match.group(1) if match else None\n",
    "\n",
    "# Create new column with extracted emails\n",
    "df['email'] = df['From'].apply(extract_email)"
   ]
  },
  {
   "cell_type": "code",
   "execution_count": 7,
   "metadata": {},
   "outputs": [
    {
     "data": {
      "text/plain": [
       "0                                    Here is our forecast\n",
       "1       Traveling to have a business meeting takes the...\n",
       "2                           test successful. way to go!!!\n",
       "3       Randy, Can you send me a schedule of the salar...\n",
       "4                       Let's shoot for Tuesday at 11:45.\n",
       "                              ...                        \n",
       "1230    loan servicing-jessica weeber 800-393-5626 jwe...\n",
       "1231                              exit mccollough off 410\n",
       "1232    >From: \"Greg Thorse\" >To: >CC: \"Phillip Allen\"...\n",
       "1233    This request has been pending your approval fo...\n",
       "1234    If you cannot read this email, please click he...\n",
       "Name: content, Length: 1235, dtype: object"
      ]
     },
     "execution_count": 7,
     "metadata": {},
     "output_type": "execute_result"
    }
   ],
   "source": [
    "df['content']"
   ]
  }
 ],
 "metadata": {
  "kernelspec": {
   "display_name": "Python 3",
   "language": "python",
   "name": "python3"
  },
  "language_info": {
   "codemirror_mode": {
    "name": "ipython",
    "version": 3
   },
   "file_extension": ".py",
   "mimetype": "text/x-python",
   "name": "python",
   "nbconvert_exporter": "python",
   "pygments_lexer": "ipython3",
   "version": "3.12.3"
  }
 },
 "nbformat": 4,
 "nbformat_minor": 2
}
