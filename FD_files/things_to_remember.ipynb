{
 "cells": [
  {
   "cell_type": "code",
   "execution_count": null,
   "metadata": {},
   "outputs": [],
   "source": [
    "from sklearn.compose import ColumnTransformer\n",
    "from sklearn.preprocessing import OneHotEncoder, StandardScaler\n",
    "from sklearn.ensemble import RandomForestClassifier\n",
    "from sklearn.pipeline import Pipeline\n",
    "from feature_engine.selection import DropConstantFeatures, DropDuplicateFeatures, SmartCorrelatedSelection\n",
    "\n",
    "columns_to_ohe = ['Sex', 'Embarked']\n",
    "\n",
    "complete_pipeline = Pipeline([\n",
    "                            # Feature Selection Steps\n",
    "                            ('constant_features_removal', DropConstantFeatures(tol=0.998)),\n",
    "                            ('duplicate_features_removal', DropDuplicateFeatures()),\n",
    "                            ('correlation_removal', SmartCorrelatedSelection(selection_method='variance')),\n",
    "                            # Preprocessing Steps\n",
    "                            ('preprocessing', ColumnTransformer([('ohe', OneHotEncoder(handle_unknown='ignore', drop='first'),\n",
    "                                                                                        columns_to_ohe)], remainder='passthrough')),\n",
    "                            ('scaler', StandardScaler()),\n",
    "                            ('classifier', RandomForestClassifier(\n",
    "                                                                    bootstrap=True,\n",
    "                                                                    max_depth=80,\n",
    "                                                                    max_features=2,\n",
    "                                                                    min_samples_leaf=3,\n",
    "                                                                    min_samples_split=8,\n",
    "                                                                    n_estimators=100\n",
    "                                                                    ))\n",
    "                            ])\n",
    "\n",
    "complete_pipeline"
   ]
  },
  {
   "cell_type": "code",
   "execution_count": null,
   "metadata": {},
   "outputs": [],
   "source": [
    "import seaborn as sns\n",
    "sns.pairplot(df,hue='Species')"
   ]
  },
  {
   "cell_type": "code",
   "execution_count": null,
   "metadata": {},
   "outputs": [],
   "source": [
    "sns.relplot(x=\"Age\", y=\"Fare\", hue=\"Sex\",\n",
    "                col=\"Survived\", row=\"Pclass\", data=df,height=3)"
   ]
  },
  {
   "cell_type": "code",
   "execution_count": null,
   "metadata": {},
   "outputs": [],
   "source": [
    "from sklearn.metrics import classification_report\n",
    "\n",
    "for cls, ax in zip(classifiers, axes.flatten()):\n",
    "    print(cls)\n",
    "    print(classification_report(y_test,cls.predict(X_test),target_names=labels))"
   ]
  },
  {
   "cell_type": "code",
   "execution_count": null,
   "metadata": {},
   "outputs": [],
   "source": [
    "from sklearn.metrics import ConfusionMatrixDisplay\n",
    "\n",
    "fig, axes = plt.subplots(nrows=3, ncols=3, figsize=(15,10))\n",
    "\n",
    "labels = ['morti','sopravv']\n",
    "for cls, ax in zip(classifiers, axes.flatten()):\n",
    "    ConfusionMatrixDisplay.from_estimator(cls,\n",
    "                                            X_test,\n",
    "                                            y_test,\n",
    "                                            ax=ax,\n",
    "                                            cmap='Blues',\n",
    "                                            display_labels=labels,\n",
    "                                            )\n",
    "    ax.title.set_text(type(cls).__name__)\n",
    "plt.tight_layout()"
   ]
  },
  {
   "cell_type": "code",
   "execution_count": null,
   "metadata": {},
   "outputs": [],
   "source": [
    "X = df.iloc[:,:-1]\n",
    "feature_imp = pd.Series(best_grid.feature_importances_, index=X.columns).sort_values(ascending=False)\n",
    "\n",
    "plt.figure(figsize=(7,5))\n",
    "sns.barplot(x=feature_imp, y=feature_imp.index)\n",
    "plt.xlabel('Feature Importance Score')\n",
    "plt.ylabel('Features')\n",
    "plt.title(\"Visualizing Important Features\")"
   ]
  },
  {
   "cell_type": "code",
   "execution_count": null,
   "metadata": {},
   "outputs": [],
   "source": [
    "sns.countplot(x='island',data=df_agg,hue='species')"
   ]
  }
 ],
 "metadata": {
  "language_info": {
   "name": "python"
  }
 },
 "nbformat": 4,
 "nbformat_minor": 2
}
