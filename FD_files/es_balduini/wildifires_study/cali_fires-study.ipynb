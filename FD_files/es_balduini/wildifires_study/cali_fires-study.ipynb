{
 "cells": [
  {
   "cell_type": "code",
   "execution_count": 1,
   "metadata": {},
   "outputs": [],
   "source": [
    "import pandas as pd\n",
    "import shapefile\n",
    "import geopandas as gp"
   ]
  },
  {
   "cell_type": "code",
   "execution_count": 2,
   "metadata": {},
   "outputs": [
    {
     "data": {
      "text/plain": [
       "['gis_osm_places_free_1.shp',\n",
       " 'gis_osm_transport_free_1.shp',\n",
       " 'gis_osm_roads_free_1.shp',\n",
       " 'gis_osm_railways_free_1.shp',\n",
       " 'gis_osm_traffic_a_free_1.shp',\n",
       " 'gis_osm_pois_free_1.shp',\n",
       " 'gis_osm_waterways_free_1.shp',\n",
       " 'gis_osm_buildings_a_free_1.shp',\n",
       " 'gis_osm_traffic_free_1.shp',\n",
       " 'gis_osm_landuse_a_free_1.shp',\n",
       " 'gis_osm_places_a_free_1.shp',\n",
       " 'gis_osm_pofw_a_free_1.shp',\n",
       " 'gis_osm_pofw_free_1.shp',\n",
       " 'gis_osm_natural_a_free_1.shp',\n",
       " 'gis_osm_transport_a_free_1.shp',\n",
       " 'gis_osm_natural_free_1.shp',\n",
       " 'gis_osm_pois_a_free_1.shp',\n",
       " 'gis_osm_water_a_free_1.shp']"
      ]
     },
     "execution_count": 2,
     "metadata": {},
     "output_type": "execute_result"
    }
   ],
   "source": [
    "# importing the module\n",
    "import os\n",
    " \n",
    "# giving directory name\n",
    "dirname = '/home/don/Desktop/FISTIC2024_FD/FD_files/es_balduini/08_california_wildifires_study/data/norcal-latest-free.shp'\n",
    " \n",
    "# giving file extensions\n",
    "ext = ('.shp')\n",
    " \n",
    "# iterating over directory and subdirectory to get desired result\n",
    "\n",
    "shp_files=[]\n",
    "for path, dirc, files in os.walk(dirname):\n",
    "    for name in files:\n",
    "        if name.endswith(ext):\n",
    "            shp_files.append(name)\n",
    "\n",
    "\n",
    "shp_files"
   ]
  },
  {
   "cell_type": "code",
   "execution_count": 3,
   "metadata": {},
   "outputs": [
    {
     "ename": "",
     "evalue": "",
     "output_type": "error",
     "traceback": [
      "\u001b[1;31mThe Kernel crashed while executing code in the current cell or a previous cell. \n",
      "\u001b[1;31mPlease review the code in the cell(s) to identify a possible cause of the failure. \n",
      "\u001b[1;31mClick <a href='https://aka.ms/vscodeJupyterKernelCrash'>here</a> for more info. \n",
      "\u001b[1;31mView Jupyter <a href='command:jupyter.viewOutput'>log</a> for further details."
     ]
    }
   ],
   "source": [
    "\n",
    " #the pyshp module import pandas as pd\n",
    "\n",
    "df_north=pd.DataFrame()\n",
    "\n",
    "for file in shp_files:\n",
    "\n",
    "    df1=gp.read_file(f\"data/norcal-latest-free.shp/{file}\")\n",
    "\n",
    "    df_north=pd.concat([df_north,df1])\n",
    "\n",
    "\n",
    "\n",
    "df_north\n"
   ]
  },
  {
   "cell_type": "code",
   "execution_count": null,
   "metadata": {},
   "outputs": [],
   "source": [
    "dirname = '/home/don/Desktop/FISTIC2024_FD/FD_files/es_balduini/08_california_wildifires_study/data/socal-latest-free.shp'\n",
    " \n",
    "# giving file extensions\n",
    "ext = ('.shp')\n",
    " \n",
    "# iterating over directory and subdirectory to get desired result\n",
    "\n",
    "shp_files=[]\n",
    "for path, dirc, files in os.walk(dirname):\n",
    "    for name in files:\n",
    "        if name.endswith(ext):\n",
    "            shp_files.append(name)df_north=pd.DataFrame()\n",
    "\n",
    "for file in shp_files:\n",
    "\n",
    "    df1=gp.read_file(f\"data/norcal-latest-free.shp/{file}\")\n",
    "\n",
    "    df_north=pd.concat([df_north,df1])\n",
    "\n",
    "\n",
    "\n",
    "df_north\n",
    "\n",
    "\n",
    "shp_files"
   ]
  },
  {
   "cell_type": "code",
   "execution_count": null,
   "metadata": {},
   "outputs": [],
   "source": [
    "df_south=pd.DataFrame()\n",
    "\n",
    "for file in shp_files:\n",
    "\n",
    "    df1=gp.read_file(f\"data/socal-latest-free.shp/{file}\")\n",
    "\n",
    "    df_south=pd.concat([df_south,df1])\n",
    "\n",
    "\n",
    "\n",
    "df_south"
   ]
  }
 ],
 "metadata": {
  "kernelspec": {
   "display_name": "Python 3",
   "language": "python",
   "name": "python3"
  },
  "language_info": {
   "codemirror_mode": {
    "name": "ipython",
    "version": 3
   },
   "file_extension": ".py",
   "mimetype": "text/x-python",
   "name": "python",
   "nbconvert_exporter": "python",
   "pygments_lexer": "ipython3",
   "version": "3.12.3"
  }
 },
 "nbformat": 4,
 "nbformat_minor": 2
}
